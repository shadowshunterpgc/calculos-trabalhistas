{
 "cells": [
  {
   "cell_type": "markdown",
   "id": "7c6e6b2d",
   "metadata": {},
   "source": [
    "# Calculos Trabalhistas\n",
    "\n",
    "## Fonte: https://blog.convenia.com.br/calculo-trabalhista/"
   ]
  },
  {
   "cell_type": "code",
   "execution_count": 17,
   "id": "bccadb3b",
   "metadata": {},
   "outputs": [
    {
     "name": "stdout",
     "output_type": "stream",
     "text": [
      "Requirement already satisfied: datetime in /Users/pablocorrea/anaconda3/lib/python3.11/site-packages (5.2)\n",
      "Requirement already satisfied: zope.interface in /Users/pablocorrea/anaconda3/lib/python3.11/site-packages (from datetime) (5.4.0)\n",
      "Requirement already satisfied: pytz in /Users/pablocorrea/anaconda3/lib/python3.11/site-packages (from datetime) (2022.7)\n",
      "Requirement already satisfied: setuptools in /Users/pablocorrea/anaconda3/lib/python3.11/site-packages (from zope.interface->datetime) (68.1.2)\n"
     ]
    }
   ],
   "source": [
    "!pip install datetime"
   ]
  },
  {
   "cell_type": "code",
   "execution_count": 4,
   "id": "c4459c20",
   "metadata": {},
   "outputs": [],
   "source": [
    "# Bibliotecas necessárias\n",
    "from datetime import datetime\n",
    "import math"
   ]
  },
  {
   "cell_type": "markdown",
   "id": "b3d3a04e",
   "metadata": {},
   "source": [
    "## Saldo do Salário\n",
    "\n",
    "#### O saldo de salário é o valor devido pelos dias em que o empregado trabalhou no mês da rescisão contratual. Para fazer o cálculo é preciso dividir o valor do salário por 30 (conforme artigo 64 da CLT). Como o empregado trabalhou até o dia 17, será feito o seguinte cálculo:"
   ]
  },
  {
   "cell_type": "code",
   "execution_count": 5,
   "id": "ce4a3f40",
   "metadata": {
    "scrolled": true
   },
   "outputs": [
    {
     "name": "stdout",
     "output_type": "stream",
     "text": [
      "Informe o saldo do salário: 1200\n"
     ]
    }
   ],
   "source": [
    "# Input para informar o saldo do salário\n",
    "saldo_do_salario = input(\"Informe o saldo do salário: \")"
   ]
  },
  {
   "cell_type": "code",
   "execution_count": 7,
   "id": "e166ac54",
   "metadata": {},
   "outputs": [],
   "source": [
    "# Cálculo do saldo do salário dividido pelos dias trabalhados\n",
    "salario_por_dia = int(saldo_do_salario) / 30"
   ]
  },
  {
   "cell_type": "code",
   "execution_count": 8,
   "id": "1b19ae1e",
   "metadata": {},
   "outputs": [
    {
     "name": "stdout",
     "output_type": "stream",
     "text": [
      "Informe os dias trabalhados: 17\n"
     ]
    }
   ],
   "source": [
    "# Input para informar os dias trabalhados\n",
    "dias_trabalhados = input(\"Informe os dias trabalhados: \")"
   ]
  },
  {
   "cell_type": "code",
   "execution_count": 9,
   "id": "19df03ac",
   "metadata": {},
   "outputs": [
    {
     "name": "stdout",
     "output_type": "stream",
     "text": [
      "R$ 40.0\n"
     ]
    }
   ],
   "source": [
    "print(\"R$ \" + str(round(salario_por_dia, 2)))"
   ]
  },
  {
   "cell_type": "code",
   "execution_count": 10,
   "id": "f4854071",
   "metadata": {},
   "outputs": [],
   "source": [
    "# Cálculo de salário por dia vezes os dias trabalhados\n",
    "saldo_salario = salario_por_dia * int(dias_trabalhados)"
   ]
  },
  {
   "cell_type": "code",
   "execution_count": 11,
   "id": "e302d83c",
   "metadata": {},
   "outputs": [
    {
     "name": "stdout",
     "output_type": "stream",
     "text": [
      "R$ 680.0\n"
     ]
    }
   ],
   "source": [
    "print(\"R$ \" + str(round(saldo_salario, 2)))"
   ]
  },
  {
   "cell_type": "markdown",
   "id": "9c22bde6",
   "metadata": {},
   "source": [
    "## Aviso prévio\n",
    "\n",
    "#### O aviso prévio é o período entre a data em que é comunicada a dispensa até o dia do efetivo desligamento. \n",
    "\n",
    "#### Essa medida deve ser feita com, no mínimo, 30 dias antecedência e com um adicional de 3 dias para cada ano de trabalho do empregado, nos casos de dispensa por iniciativa do empregador, de acordo com o artigo 7º, XXI da Constituição Federal (CF), artigos 487 a 491 da CLT e lei 12.506/2011.\n",
    "\n",
    "#### Assim, um mês de aviso é equivalente a um mês de salário — 1.200 reais. Porém, considerando que no exemplo dado a dispensa foi por iniciativa do empregador, o aviso prévio será de 39 dias. Como já sabemos que o salário são de 40 reais, basta multiplicá-lo pelos dias de aviso: 39 x 40 = 1.560.\n",
    "\n",
    "#### É importante lembrar que o período de aviso sempre integra o tempo de trabalho do empregado para todos os efeitos legais, refletindo nas demais verbas, com exceção do desconto de INSS."
   ]
  },
  {
   "cell_type": "code",
   "execution_count": 12,
   "id": "d4488205",
   "metadata": {},
   "outputs": [
    {
     "name": "stdout",
     "output_type": "stream",
     "text": [
      "Informe a quantidade de dias de aviso prévio: 39\n"
     ]
    }
   ],
   "source": [
    "# Input para informar um mês de salário\n",
    "dias_de_aviso = input(\"Informe a quantidade de dias de aviso prévio: \")"
   ]
  },
  {
   "cell_type": "code",
   "execution_count": 13,
   "id": "f3735ba6",
   "metadata": {},
   "outputs": [],
   "source": [
    "total_aviso_previso = int(dias_de_aviso) * salario_por_dia"
   ]
  },
  {
   "cell_type": "code",
   "execution_count": 14,
   "id": "e81be8e8",
   "metadata": {},
   "outputs": [
    {
     "name": "stdout",
     "output_type": "stream",
     "text": [
      "R$ 1560.0\n"
     ]
    }
   ],
   "source": [
    "print(\"R$ \" + str(round(total_aviso_previso, 2)))"
   ]
  },
  {
   "cell_type": "markdown",
   "id": "f3f70118",
   "metadata": {},
   "source": [
    "## Férias + 1/3\n",
    "\n",
    "#### A cada 12 meses de trabalho o empregado tem direito a receber 30 dias de férias remuneradas (artigo 130 da CLT), acrescidas de 1/3 (CF, artigo 7º, XVII). Poderá haver descontos nas férias em caso de faltas injustificadas do trabalho, seguindo a gradação feita pelo artigo 30 da CLT."
   ]
  },
  {
   "cell_type": "code",
   "execution_count": 15,
   "id": "b81602d1",
   "metadata": {},
   "outputs": [],
   "source": [
    "# Valor de 1/3 constitucional\n",
    "valor_constitucional = int(saldo_do_salario) / 3"
   ]
  },
  {
   "cell_type": "code",
   "execution_count": 16,
   "id": "6f78438b",
   "metadata": {},
   "outputs": [],
   "source": [
    "# Calcula o saldo do salário mais o valor de 1/3 constitucional\n",
    "total_ferias = int(saldo_do_salario) + valor_constitucional"
   ]
  },
  {
   "cell_type": "code",
   "execution_count": 17,
   "id": "f390e02c",
   "metadata": {},
   "outputs": [
    {
     "name": "stdout",
     "output_type": "stream",
     "text": [
      "Total à receber de férias: R$ 1600.0\n"
     ]
    }
   ],
   "source": [
    "print(\"Total à receber de férias: R$ \" + str(round(total_ferias, 2)))"
   ]
  },
  {
   "cell_type": "markdown",
   "id": "2ae51df1",
   "metadata": {},
   "source": [
    "# Férias proporcionais\n",
    "\n",
    "#### Sempre que a dispensa acontecer antes de o empregado completar 12 meses de trabalho, ele terá direito a receber as férias proporcionais (artigo 146 da CLT). Para fazer essa conta é preciso dividir o valor do salário por 12 (referentes aos meses do ano) e depois multiplicar pela quantidade de meses trabalhados.\n",
    "\n",
    "#### Ainda, é importante saber que o aviso prévio, mesmo que indenizado, integrará esse cálculo. Isso acontece pois o direito ao proporcional de férias é adquirido sempre que houver mais de 15 dias de trabalho no período em que está sendo computado o referido mês.\n",
    "\n",
    "#### No exemplo dado, o empregado trabalhou até o dia 17/08, com mais 39 dias integrados ao período, ou seja, até o dia 25/09. Dessa forma, considerando que o trabalho teve início em março, ele terá direito a receber férias proporcionais de 7 meses (de março até setembro)."
   ]
  },
  {
   "cell_type": "code",
   "execution_count": 18,
   "id": "5771a1ec",
   "metadata": {},
   "outputs": [],
   "source": [
    "data_entrada = datetime(2023, 3, 17)"
   ]
  },
  {
   "cell_type": "code",
   "execution_count": 19,
   "id": "6bd12bf7",
   "metadata": {},
   "outputs": [],
   "source": [
    "data_saida = datetime(2023, 9, 25)"
   ]
  },
  {
   "cell_type": "code",
   "execution_count": 20,
   "id": "f6b51dd6",
   "metadata": {},
   "outputs": [],
   "source": [
    "# O método math.ceil arredonda o valor para cima\n",
    "qtd_meses = math.ceil(abs((data_entrada - data_saida).days) / 30)"
   ]
  },
  {
   "cell_type": "code",
   "execution_count": 21,
   "id": "18761ac5",
   "metadata": {},
   "outputs": [],
   "source": [
    "valor_mensal = float(saldo_do_salario) / 12"
   ]
  },
  {
   "cell_type": "code",
   "execution_count": 22,
   "id": "ce1396b9",
   "metadata": {},
   "outputs": [],
   "source": [
    "ferias_proporcionais = valor_mensal * qtd_meses"
   ]
  },
  {
   "cell_type": "code",
   "execution_count": 23,
   "id": "ef1894d5",
   "metadata": {},
   "outputs": [],
   "source": [
    "valor_constitucional = ferias_proporcionais / 3"
   ]
  },
  {
   "cell_type": "code",
   "execution_count": 24,
   "id": "ab819f76",
   "metadata": {},
   "outputs": [],
   "source": [
    "total_ferias_proporcionais = ferias_proporcionais + valor_constitucional"
   ]
  },
  {
   "cell_type": "code",
   "execution_count": 25,
   "id": "fb4841ca",
   "metadata": {},
   "outputs": [],
   "source": [
    "total_devido_ferias_proporcionais = str(round(total_ferias_proporcionais, 2))"
   ]
  },
  {
   "cell_type": "code",
   "execution_count": 26,
   "id": "63c6a854",
   "metadata": {},
   "outputs": [
    {
     "name": "stdout",
     "output_type": "stream",
     "text": [
      "R$ 933.33\n"
     ]
    }
   ],
   "source": [
    "print(f\"R$ {total_devido_ferias_proporcionais}\")"
   ]
  },
  {
   "cell_type": "markdown",
   "id": "80cc5a3c",
   "metadata": {},
   "source": [
    "# FGTS\n",
    "\n",
    "#### Todo mês o empregador deve recolher 8% do FGTS calculado sobre a remuneração do empregado, de acordo com a Lei 8.036/1990. "
   ]
  },
  {
   "cell_type": "code",
   "execution_count": 27,
   "id": "87eab7ae",
   "metadata": {},
   "outputs": [],
   "source": [
    "fgts = float(saldo_do_salario) * 0.08"
   ]
  },
  {
   "cell_type": "code",
   "execution_count": 28,
   "id": "8b158ec4",
   "metadata": {},
   "outputs": [
    {
     "name": "stdout",
     "output_type": "stream",
     "text": [
      "R$ 96.0\n"
     ]
    }
   ],
   "source": [
    "print(f\"R$ {fgts}\")"
   ]
  },
  {
   "cell_type": "markdown",
   "id": "ff33fe8d",
   "metadata": {},
   "source": [
    "# Multa FGTS\n",
    "\n",
    "#### Na dispensa sem justa causa é devida a multa do FGTS no valor de 40% do saldo final da conta do empregado ou 20% nas demissões em comum acordo como já explicado.\n",
    "\n",
    "#### O cálculo é feito com base no saldo final da conta do empregado, que terá como base todos os recolhimentos realizados pelo empregador, somando também os depósitos a serem realizados com a rescisão. Com esse valor em mãos, basta multiplicar por 0,4 (40%) ou 0,2 (20%) para obter o valor da multa.\n",
    "\n",
    "#### Por exemplo, supondo que o valor total do depósito tenha sido RS 3500, a multa será calculada da seguinte forma:\n",
    "\n"
   ]
  },
  {
   "cell_type": "code",
   "execution_count": 29,
   "id": "18162e42",
   "metadata": {},
   "outputs": [],
   "source": [
    "# Dispensa sem justa causa\n",
    "sem_justa_causa = 3500 * 0.4"
   ]
  },
  {
   "cell_type": "code",
   "execution_count": 30,
   "id": "5f53c019",
   "metadata": {},
   "outputs": [
    {
     "name": "stdout",
     "output_type": "stream",
     "text": [
      "Dispensa sem justa causa: R$ 1400.0\n"
     ]
    }
   ],
   "source": [
    "print(f\"Dispensa sem justa causa: R$ {sem_justa_causa}\")"
   ]
  },
  {
   "cell_type": "code",
   "execution_count": 31,
   "id": "7b30159d",
   "metadata": {},
   "outputs": [],
   "source": [
    "# Dispensa em comum acordo\n",
    "com_acordo = 3500 * 0.2"
   ]
  },
  {
   "cell_type": "code",
   "execution_count": 32,
   "id": "ec9ddd7b",
   "metadata": {},
   "outputs": [
    {
     "name": "stdout",
     "output_type": "stream",
     "text": [
      "Dispensa em comum acordo: R$ 700.0\n"
     ]
    }
   ],
   "source": [
    "print(f\"Dispensa em comum acordo: R$ {com_acordo}\")"
   ]
  },
  {
   "cell_type": "markdown",
   "id": "5224269e",
   "metadata": {},
   "source": [
    "# Horas Extras\n",
    "\n",
    "#### Para calcular as horas extras, primeiro é preciso saber o valor da hora de trabalho. Para isso, divide-se o salário do empregado pela quantidade de horas de trabalho mensais. Depois, deve-se multiplicar o valor da hora pelo percentual devido, que normalmente é 50% para dias normais e 100% para domingos e feriados, mas convenções coletivas podem determinar outros percentuais de adicional.\n",
    "\n",
    "#### Somando o valor da hora com o adicional, saberemos o valor de uma hora extra. Feito isso, basta multiplicar esse valor pelo total de horas extraordinárias realizadas pelo empregado durante o mês. "
   ]
  },
  {
   "cell_type": "code",
   "execution_count": 33,
   "id": "85082d1b",
   "metadata": {},
   "outputs": [],
   "source": [
    "valor_da_hora = float(saldo_do_salario) / 220"
   ]
  },
  {
   "cell_type": "code",
   "execution_count": 34,
   "id": "954a6aac",
   "metadata": {},
   "outputs": [],
   "source": [
    "valor_do_adicional = valor_da_hora * 0.5 "
   ]
  },
  {
   "cell_type": "code",
   "execution_count": 35,
   "id": "e71f30f9",
   "metadata": {},
   "outputs": [],
   "source": [
    "valor_da_hora_extra = valor_do_adicional + valor_da_hora"
   ]
  },
  {
   "cell_type": "code",
   "execution_count": 38,
   "id": "40afca73",
   "metadata": {},
   "outputs": [],
   "source": [
    "total_devido_horas_extras = round(30 * valor_da_hora_extra, 2)"
   ]
  },
  {
   "cell_type": "code",
   "execution_count": 39,
   "id": "b768e920",
   "metadata": {},
   "outputs": [
    {
     "name": "stdout",
     "output_type": "stream",
     "text": [
      "Total devido de horas extras: R$ 245.45\n"
     ]
    }
   ],
   "source": [
    "print(f\"Total devido de horas extras: R$ {total_devido_horas_extras}\")"
   ]
  }
 ],
 "metadata": {
  "kernelspec": {
   "display_name": "Python 3 (ipykernel)",
   "language": "python",
   "name": "python3"
  },
  "language_info": {
   "codemirror_mode": {
    "name": "ipython",
    "version": 3
   },
   "file_extension": ".py",
   "mimetype": "text/x-python",
   "name": "python",
   "nbconvert_exporter": "python",
   "pygments_lexer": "ipython3",
   "version": "3.11.4"
  }
 },
 "nbformat": 4,
 "nbformat_minor": 5
}
